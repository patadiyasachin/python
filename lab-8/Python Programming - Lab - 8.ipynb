{
 "cells": [
  {
   "cell_type": "markdown",
   "metadata": {},
   "source": [
    "<a href='https://www.darshan.ac.in/'> <img src='https://www.darshan.ac.in/Content/media/DU_Logo.svg' width=\"250\" height=\"300\"/></a>\n",
    "<pre>\n",
    "<center><b><h1>Python Programming - 2101CS405</b></center>\n",
    "<center><b><h1>Lab - 8</b></center>    \n",
    "<pre>"
   ]
  },
  {
   "cell_type": "markdown",
   "metadata": {},
   "source": [
    "# File handling"
   ]
  },
  {
   "cell_type": "markdown",
   "metadata": {},
   "source": [
    "# A"
   ]
  },
  {
   "cell_type": "markdown",
   "metadata": {},
   "source": [
    "### 01) WAP to read entire file named abc.txt"
   ]
  },
  {
   "cell_type": "code",
   "execution_count": null,
   "metadata": {},
   "outputs": [
    {
     "name": "stdout",
     "output_type": "stream",
     "text": [
      "hello world\n",
      "from mehul\n",
      "how \n",
      "are\n",
      "you\n",
      "whats\n",
      "about\n",
      "you\n"
     ]
    }
   ],
   "source": [
    "file = open('abc.txt','r')\n",
    "print(file.read())\n",
    "file.close()"
   ]
  },
  {
   "cell_type": "markdown",
   "metadata": {},
   "source": [
    "### 02) WAP to print program it self on console."
   ]
  },
  {
   "cell_type": "code",
   "execution_count": null,
   "metadata": {},
   "outputs": [
    {
     "name": "stdout",
     "output_type": "stream",
     "text": [
      "with open('Python Programming - Lab - 8.ipynb','r') as file :\n",
      "    data = file.read()\n",
      "    print(data)\n"
     ]
    }
   ],
   "source": [
    "with open('abc2.txt','r') as file :\n",
    "    data = file.read()\n",
    "    print(data)"
   ]
  },
  {
   "cell_type": "markdown",
   "metadata": {},
   "source": [
    "### 03) WAP to read first 5 lines from the file named abc.txt"
   ]
  },
  {
   "cell_type": "code",
   "execution_count": null,
   "metadata": {},
   "outputs": [
    {
     "name": "stdout",
     "output_type": "stream",
     "text": [
      "hello world\n",
      "from mehul\n",
      "how \n",
      "are\n",
      "you\n",
      "\n"
     ]
    }
   ],
   "source": [
    "with open('abc.txt','r') as file :\n",
    "    lines = file.readlines()\n",
    "    firstFive=lines[0:5:]\n",
    "    print(''.join(firstFive))"
   ]
  },
  {
   "cell_type": "markdown",
   "metadata": {},
   "source": [
    "### 04) WAP to find the longest word in a file named abc.txt"
   ]
  },
  {
   "cell_type": "code",
   "execution_count": null,
   "metadata": {},
   "outputs": [
    {
     "name": "stdout",
     "output_type": "stream",
     "text": [
      "Longest word in the file is: thisislongest\n"
     ]
    }
   ],
   "source": [
    "def longest_word(filename):\n",
    "    try:\n",
    "        with open(filename, 'r') as file:\n",
    "            words = file.read().split()  \n",
    "            longest = max(words, key=len)\n",
    "            return longest\n",
    "    except FileNotFoundError:\n",
    "        print(\"File not found!\")\n",
    "\n",
    "filename = 'abc.txt'\n",
    "longest = longest_word(filename)\n",
    "if longest:\n",
    "    print(\"Longest word in the file is:\", longest)\n"
   ]
  },
  {
   "cell_type": "markdown",
   "metadata": {},
   "source": [
    "### 05) WAP to find the size of the file named abc.txt"
   ]
  },
  {
   "cell_type": "code",
   "execution_count": null,
   "metadata": {},
   "outputs": [
    {
     "name": "stdout",
     "output_type": "stream",
     "text": [
      "size of file is  102\n"
     ]
    }
   ],
   "source": [
    "import os\n",
    "\n",
    "size = os.path.getsize('abc2.txt')\n",
    "print(\"size of file is \",size)"
   ]
  },
  {
   "cell_type": "markdown",
   "metadata": {},
   "source": [
    "### 06) WAP to implement search function to search specific occurance of word in a given text file."
   ]
  },
  {
   "cell_type": "code",
   "execution_count": null,
   "metadata": {},
   "outputs": [
    {
     "name": "stdout",
     "output_type": "stream",
     "text": [
      "Word found at ::  50\n"
     ]
    }
   ],
   "source": [
    "searchWord = input(\"Enter word to search in file\")\n",
    "\n",
    "with open('abc.txt','r') as file :\n",
    "    data = file.read()\n",
    "    if searchWord in data :\n",
    "        print(\"Word found at :: \",data.find(searchWord))\n",
    "    else :\n",
    "        print(\"Word not found!!\")"
   ]
  },
  {
   "cell_type": "markdown",
   "metadata": {},
   "source": [
    "# B"
   ]
  },
  {
   "cell_type": "markdown",
   "metadata": {},
   "source": [
    "### 01) WAP to write first 100 prime numbers to a file named primenumbers.txt \n",
    "(Note: each number should be in new line)"
   ]
  },
  {
   "cell_type": "code",
   "execution_count": null,
   "metadata": {},
   "outputs": [],
   "source": [
    "with open('primenumbers.txt','w') as file :\n",
    "    for i in range(1,101) :\n",
    "        for j in range(2,i//2) :\n",
    "            if i % j == 0 :\n",
    "                break\n",
    "        file.write(str(i)+\"\\n\")\n"
   ]
  },
  {
   "cell_type": "markdown",
   "metadata": {},
   "source": [
    "### 02) WAP to merge two files and write it in a new file."
   ]
  },
  {
   "cell_type": "code",
   "execution_count": null,
   "metadata": {},
   "outputs": [],
   "source": [
    "with open('abc2.txt','w') as file :\n",
    "    file.writelines(\"Hello from abc2.txt\\nHow are you from abc2.txt\\nhows going your python\")\n",
    "\n",
    "with open('abc.txt','a') as file1 :\n",
    "    with open('abc2.txt','r') as file2 :\n",
    "        data = file2.read()\n",
    "        file1.write(\"\\n\\n\"+data)\n",
    "    "
   ]
  },
  {
   "cell_type": "markdown",
   "metadata": {},
   "source": [
    "### 03) WAP to encrypt a text file."
   ]
  },
  {
   "cell_type": "code",
   "execution_count": null,
   "metadata": {},
   "outputs": [
    {
     "name": "stdout",
     "output_type": "stream",
     "text": [
      "b\"with open('Python Programming - Lab - 8.ipynb','r') as file :\\n    data = file.read()\\n    print(data)\"\n"
     ]
    }
   ],
   "source": [
    "file = open('abc2.txt','r+') \n",
    "data = file.read().encode(\"utf-8\")\n",
    "print(data)"
   ]
  },
  {
   "cell_type": "markdown",
   "metadata": {},
   "source": [
    "### 04) WAP to decrypt a previously encrypted file."
   ]
  },
  {
   "cell_type": "code",
   "execution_count": null,
   "metadata": {},
   "outputs": [],
   "source": [
    "import base64\n",
    "def decode_file(input_file, output_file):\n",
    "    try:\n",
    "        with open(input_file, 'rb') as f:\n",
    "            encoded_data = f.read()\n",
    "            decoded_data = base64.b64decode(encoded_data)\n",
    "\n",
    "        with open(output_file, 'wb') as f:\n",
    "            f.write(decoded_data)\n",
    "        print(\"File decoded successfully!\")\n",
    "    except FileNotFoundError:\n",
    "        print(\"File not found!\")\n",
    "\n",
    "input_file = 'encoded_file.txt'\n",
    "output_file = 'decoded_file.txt'\n",
    "decode_file(input_file, output_file)\n"
   ]
  },
  {
   "cell_type": "markdown",
   "metadata": {},
   "source": [
    "### 05) WAP to remove a word from text file."
   ]
  },
  {
   "cell_type": "code",
   "execution_count": null,
   "metadata": {},
   "outputs": [
    {
     "name": "stdout",
     "output_type": "stream",
     "text": [
      "Word removed successfully!!\n"
     ]
    }
   ],
   "source": [
    "word = input(\"Enter word to remove : \")\n",
    "\n",
    "with open('abc2.txt','r') as file :\n",
    "    data = file.read()\n",
    "    if word in data :\n",
    "        temp = data.replace(word,\"\")\n",
    "        with open('abc2.txt','w') as file2 :\n",
    "            file2.write(temp)\n",
    "        print(\"Word removed successfully!!\")\n",
    "    else :\n",
    "        print(\"word not found!!\")"
   ]
  }
 ],
 "metadata": {
  "kernelspec": {
   "display_name": "Python 3 (ipykernel)",
   "language": "python",
   "name": "python3"
  },
  "language_info": {
   "codemirror_mode": {
    "name": "ipython",
    "version": 3
   },
   "file_extension": ".py",
   "mimetype": "text/x-python",
   "name": "python",
   "nbconvert_exporter": "python",
   "pygments_lexer": "ipython3",
   "version": "3.11.5"
  }
 },
 "nbformat": 4,
 "nbformat_minor": 4
}
