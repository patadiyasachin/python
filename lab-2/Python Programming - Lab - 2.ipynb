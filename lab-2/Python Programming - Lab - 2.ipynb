{
 "cells": [
  {
   "cell_type": "markdown",
   "metadata": {},
   "source": [
    "\n",
    "<a href='https://www.darshan.ac.in/'> <img src='https://www.darshan.ac.in/Content/media/DU_Logo.svg' width=\"250\" height=\"300\"/></a>\n",
    "<pre>\n",
    "<center><b><h1>Python Programming-2101CS405</b></center>\n",
    "<center><b><h1>PATADIYA SACHIN</h1></b></center>\n",
    "<center><b><h1>22010101142</b></center>\n",
    "<center><b><h1>22/12/23</b></center>\n",
    "<center><b><h1>Lab - 2</b></center>    \n",
    "<pre>"
   ]
  },
  {
   "cell_type": "markdown",
   "metadata": {},
   "source": [
    "# if..else.."
   ]
  },
  {
   "cell_type": "markdown",
   "metadata": {},
   "source": [
    "### 01) WAP to check whether the given number is positive or negative."
   ]
  },
  {
   "cell_type": "code",
   "execution_count": 2,
   "metadata": {},
   "outputs": [
    {
     "name": "stdout",
     "output_type": "stream",
     "text": [
      "Enter number : -1\n",
      "number is negative\n"
     ]
    }
   ],
   "source": [
    "a=int(input(\"Enter number : \"))\n",
    "if a>0:\n",
    "    print(\"number is positive\")\n",
    "else:\n",
    "    print(\"number is negative\")"
   ]
  },
  {
   "cell_type": "markdown",
   "metadata": {},
   "source": [
    "### 02) WAP to check whether the given number is odd or even"
   ]
  },
  {
   "cell_type": "code",
   "execution_count": 8,
   "metadata": {},
   "outputs": [
    {
     "name": "stdout",
     "output_type": "stream",
     "text": [
      "Enter number :11\n",
      "Number is odd\n"
     ]
    }
   ],
   "source": [
    "a=int(input(\"Enter number :\"))\n",
    "if a%2==0:\n",
    "    print(\"number is even\")\n",
    "else:\n",
    "    print(\"Number is odd\")"
   ]
  },
  {
   "cell_type": "markdown",
   "metadata": {},
   "source": [
    "### 03) WAP to find out largest number from given two numbers using simple if and ternary operator."
   ]
  },
  {
   "cell_type": "code",
   "execution_count": 12,
   "metadata": {},
   "outputs": [
    {
     "name": "stdout",
     "output_type": "stream",
     "text": [
      "Enter a number :10\n",
      "Enter b number :20\n",
      "20 is greter\n"
     ]
    }
   ],
   "source": [
    "a=int(input(\"Enter a number :\"))\n",
    "b=int(input(\"Enter b number :\"))\n",
    "print(f\"{a} is greter\") if a>b else print(f\"{b} is greter\")"
   ]
  },
  {
   "cell_type": "markdown",
   "metadata": {},
   "source": [
    "### 04) WAP to find out largest number from given three numbers."
   ]
  },
  {
   "cell_type": "code",
   "execution_count": 19,
   "metadata": {},
   "outputs": [
    {
     "name": "stdout",
     "output_type": "stream",
     "text": [
      "Enter first number: 10\n",
      "Enter second number: 30\n",
      "Enter third number: 20\n"
     ]
    }
   ],
   "source": [
    "a=int(input(\"Enter first number: \"))\n",
    "b=int(input(\"Enter second number: \"))\n",
    "c=int(input(\"Enter third number: \"))"
   ]
  },
  {
   "cell_type": "code",
   "execution_count": 20,
   "metadata": {},
   "outputs": [
    {
     "name": "stdout",
     "output_type": "stream",
     "text": [
      "b is greter \n"
     ]
    }
   ],
   "source": [
    "if a>=b:\n",
    "    if a>=c:\n",
    "        print(\"a is greter \")\n",
    "    else:\n",
    "        print(\"c is greter \")\n",
    "else:\n",
    "    if b>=c:\n",
    "        print(\"b is greter \")\n",
    "    else:\n",
    "        print(\"c is greter \")"
   ]
  },
  {
   "cell_type": "markdown",
   "metadata": {},
   "source": [
    "### 05) WAP to check whether the given year is leap year or not.\n",
    "[If a year can be divisible by 4 but not divisible by 100 then it is leap year but if it is divisible by 400 then it is leap year]"
   ]
  },
  {
   "cell_type": "code",
   "execution_count": 23,
   "metadata": {},
   "outputs": [
    {
     "name": "stdout",
     "output_type": "stream",
     "text": [
      "Enter year1900\n",
      "not leap year\n"
     ]
    }
   ],
   "source": [
    "a=int(input(\"Enter year\"))\n",
    "if (a%4==0 and a%100!=0) or a%400==0:\n",
    "    print(\"leap year\")\n",
    "else:\n",
    "    print(\"not leap year\")"
   ]
  },
  {
   "cell_type": "markdown",
   "metadata": {},
   "source": [
    "### 06) WAP in python to display the name of the day according to the number given by the user"
   ]
  },
  {
   "cell_type": "code",
   "execution_count": 26,
   "metadata": {},
   "outputs": [
    {
     "name": "stdout",
     "output_type": "stream",
     "text": [
      "Enter day no between (0 to 6) 5\n",
      "it's friday\n"
     ]
    }
   ],
   "source": [
    "a=int(input(\"Enter day no between (0 to 6) : \"))\n",
    "if a==0:\n",
    "    print(\"it's sunday\")\n",
    "elif a==1:\n",
    "    print(\"it's monday\")\n",
    "elif a==2:\n",
    "    print(\"it's tuesday\")\n",
    "elif a==3:\n",
    "    print(\"it's wednesday\")\n",
    "elif a==4:\n",
    "    print(\"it's thursday\")\n",
    "elif a==5:\n",
    "    print(\"it's friday\")\n",
    "elif a==6:\n",
    "    print(\"it's saturday\")\n",
    "else:\n",
    "    print(\"Enter valid choice!!!\")\n"
   ]
  },
  {
   "cell_type": "markdown",
   "metadata": {},
   "source": [
    "### 07) WAP to implement simple calculator which performs (add,sub,mul,div) of two no. based on user input."
   ]
  },
  {
   "cell_type": "code",
   "execution_count": 29,
   "metadata": {},
   "outputs": [
    {
     "name": "stdout",
     "output_type": "stream",
     "text": [
      "Enter first number :10\n",
      "Enter second number :11\n",
      "Enter 1 for addition 2 for substraction\n",
      "Enter 3 for multiplicatioin 4 for divition\n",
      "Enter choice  :2\n",
      "substraction of two number 10 and 11 is -1\n"
     ]
    }
   ],
   "source": [
    "a=int(input(\"Enter first number :\"))\n",
    "b=int(input(\"Enter second number :\"))\n",
    "print(\"Enter 1 for addition 2 for substraction\")\n",
    "print(\"Enter 3 for multiplicatioin 4 for divition\")\n",
    "choice=int(input(\"Enter choice  :\"))\n",
    "if choice==1:\n",
    "    print(f\"addition of two number {a} and {b} is {a+b}\")\n",
    "elif choice==2:\n",
    "    print(f\"substraction of two number {a} and {b} is {a-b}\")\n",
    "elif choice==3:\n",
    "    print(f\"multiplication of two number {a} and {b} is {a*b}\")\n",
    "elif choice==4:\n",
    "    print(f\"divition of two number {a} and {b} is {a/b}\")\n",
    "else:\n",
    "    print(\"Enter valid choice !!!\")"
   ]
  },
  {
   "cell_type": "markdown",
   "metadata": {},
   "source": [
    "# 08) WAP to calculate electricity bill based on following criteria. Which takes the unit from the user.\n",
    "a. First 1 to 50 units – Rs. 2.60/unit</br>\n",
    "b. Next 50 to 100 units – Rs. 3.25/unit</br>\n",
    "c. Next 100 to 200 units – Rs. 5.26/unit</br>\n",
    "d. above 200 units – Rs. 8.45/unit"
   ]
  },
  {
   "cell_type": "code",
   "execution_count": 34,
   "metadata": {},
   "outputs": [
    {
     "name": "stdout",
     "output_type": "stream",
     "text": [
      "Entere units : 234\n",
      "total electricity bill is 1105.8 \n"
     ]
    }
   ],
   "source": [
    "a=int(input(\"Entere units : \"))\n",
    "unit=0\n",
    "if a<=50:\n",
    "    unit=a*2.60\n",
    "elif a>50 and a<=100:\n",
    "    unit=(a-50)*3.25+50*2.60\n",
    "elif a>100 and a<=200:\n",
    "    unit=50*2.60+50*3.25+(a-100)*5.26\n",
    "elif a>200:\n",
    "    unit=50*2.60+50*3.25+100*5.26+(a-200)*8.45\n",
    "    \n",
    "print(f\"total electricity bill is {unit} \")"
   ]
  },
  {
   "cell_type": "markdown",
   "metadata": {},
   "source": [
    "### 01) WAP to read marks of five subjects. Calculate percentage and print class accordingly. \n",
    "Fail below 35 </br>\n",
    "Pass Class between 35 to 45 </br>\n",
    "Second Class</br>\n",
    "between 45 to 60</br>\n",
    "First Class between 60 to 70</br> \n",
    "Distinction if more than 70"
   ]
  },
  {
   "cell_type": "code",
   "execution_count": 37,
   "metadata": {},
   "outputs": [
    {
     "name": "stdout",
     "output_type": "stream",
     "text": [
      "Enter first subject mark :50\n",
      "Enter second subject mark :50\n",
      "Enter third subject mark :50\n",
      "Enter fourth subject mark :50\n",
      "Enter fifth subject mark :50\n",
      "second class percentage is 50.0 \n"
     ]
    }
   ],
   "source": [
    "a=int(input(\"Enter first subject mark :\"))\n",
    "b=int(input(\"Enter second subject mark :\"))\n",
    "c=int(input(\"Enter third subject mark :\"))\n",
    "d=int(input(\"Enter fourth subject mark :\"))\n",
    "e=int(input(\"Enter fifth subject mark :\"))\n",
    "\n",
    "per=(a+b+c+d+e)/5\n",
    "if per<35:\n",
    "    print(f\"You are fail percentage is {per}\")\n",
    "elif per>=35 and per<=45:\n",
    "    print(f\"pass percentage is {per} \")\n",
    "elif per>45 and per<=60:\n",
    "    print(f\"second class percentage is {per} \")\n",
    "elif per>60 and per<=70:\n",
    "    print(f\"first class percentage is {per} \")\n",
    "else:\n",
    "    print(f\"distinction percentage is {per}\")"
   ]
  },
  {
   "cell_type": "markdown",
   "metadata": {},
   "source": [
    "### 02) WAP to find out the Maximum and Minimum number from given 4 numbers."
   ]
  },
  {
   "cell_type": "code",
   "execution_count": 38,
   "metadata": {},
   "outputs": [
    {
     "name": "stdout",
     "output_type": "stream",
     "text": [
      "Enter first num :10\n",
      "Enter second num :3\n",
      "Enter third num :5\n",
      "Enter fourth num :-1\n",
      "a is largest\n",
      "d is smallest \n"
     ]
    }
   ],
   "source": [
    "a=int(input(\"Enter first num :\"))\n",
    "b=int(input(\"Enter second num :\"))\n",
    "c=int(input(\"Enter third num :\"))\n",
    "d=int(input(\"Enter fourth num :\"))\n",
    "\n",
    "if a>=b and a>=c and a>=d:\n",
    "    print(\"a is largest\")\n",
    "    if b<=c and b<=d:\n",
    "        print(\"b is smallest \")\n",
    "    elif c<=d:\n",
    "        print(\"c is smallest \")\n",
    "    else:\n",
    "        print(\"d is smallest \")\n",
    "elif b>=c and b>=d and b>=a:\n",
    "    print(\"b is greter \")\n",
    "    if c<=d and c<=a:\n",
    "        print(\"c is smallest \")\n",
    "    elif d<=a:\n",
    "        print(\"d is smallest \")\n",
    "    else:\n",
    "        print(\"a is smallest \")\n",
    "elif c>=d and c>=a and c>=b:\n",
    "    print(\"c is greter \")\n",
    "    if d<=a and d<=b:\n",
    "        print(\"d is smallest \")\n",
    "    elif a<=b:\n",
    "        print(\"a is smallest \")\n",
    "    else:\n",
    "        print(\"b is smallest \")\n",
    "else:\n",
    "    print(\"d is greter \")\n",
    "    if a<=ba and a<=c:\n",
    "        print(\"a is smallest \")\n",
    "    elif b<=c:\n",
    "        print(\"b is smallest \")\n",
    "    else:\n",
    "        print(\"c is smallest \")\n",
    "        "
   ]
  },
  {
   "cell_type": "markdown",
   "metadata": {},
   "source": [
    "### 03) WAP to input an integer number and check the last digit of number is even or odd."
   ]
  },
  {
   "cell_type": "code",
   "execution_count": 47,
   "metadata": {},
   "outputs": [
    {
     "name": "stdout",
     "output_type": "stream",
     "text": [
      "Enter number: 111\n",
      "last digit is odd\n"
     ]
    }
   ],
   "source": [
    "a=int(input(\"Enter number: \"))\n",
    "lastDigit=int(a%10)\n",
    "if lastDigit%2==0:\n",
    "    print(\"last digit is even \")\n",
    "else:\n",
    "    print(\"last digit is odd\")"
   ]
  },
  {
   "cell_type": "markdown",
   "metadata": {},
   "source": [
    "### 04) WAP to determine the roots of the equation ax2+bx+c=0."
   ]
  },
  {
   "cell_type": "code",
   "execution_count": 1,
   "metadata": {},
   "outputs": [
    {
     "name": "stdout",
     "output_type": "stream",
     "text": [
      "Enter the coefficient a: 1\n",
      "Enter the coefficient b: 2\n",
      "Enter the coefficient c: 3\n",
      "Root 1: (-1+1.4142135623730951j)\n",
      "Root 2: (-1-1.4142135623730951j)\n"
     ]
    }
   ],
   "source": [
    "import cmath\n",
    "\n",
    "def find_roots(a, b, c):\n",
    "    discriminant = cmath.sqrt(b**2 - 4*a*c)\n",
    "\n",
    "    root1 = (-b + discriminant) / (2*a)\n",
    "    root2 = (-b - discriminant) / (2*a)\n",
    "\n",
    "    return root1, root2\n",
    "\n",
    "a = float(input(\"Enter the coefficient a: \"))\n",
    "b = float(input(\"Enter the coefficient b: \"))\n",
    "c = float(input(\"Enter the coefficient c: \"))\n",
    "\n",
    "roots = find_roots(a, b, c)\n",
    "print(\"Root 1:\", roots[0])\n",
    "print(\"Root 2:\", roots[1])\n"
   ]
  },
  {
   "cell_type": "code",
   "execution_count": null,
   "metadata": {},
   "outputs": [],
   "source": []
  }
 ],
 "metadata": {
  "kernelspec": {
   "display_name": "Python 3 (ipykernel)",
   "language": "python",
   "name": "python3"
  },
  "language_info": {
   "codemirror_mode": {
    "name": "ipython",
    "version": 3
   },
   "file_extension": ".py",
   "mimetype": "text/x-python",
   "name": "python",
   "nbconvert_exporter": "python",
   "pygments_lexer": "ipython3",
   "version": "3.11.5"
  }
 },
 "nbformat": 4,
 "nbformat_minor": 4
}
